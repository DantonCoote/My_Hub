{
  "nbformat": 4,
  "nbformat_minor": 0,
  "metadata": {
    "colab": {
      "provenance": [],
      "authorship_tag": "ABX9TyN5/xtiFQKnj7ROnxeuf7yN",
      "include_colab_link": true
    },
    "kernelspec": {
      "name": "python3",
      "display_name": "Python 3"
    },
    "language_info": {
      "name": "python"
    }
  },
  "cells": [
    {
      "cell_type": "markdown",
      "metadata": {
        "id": "view-in-github",
        "colab_type": "text"
      },
      "source": [
        "<a href=\"https://colab.research.google.com/github/DantonCoote/My_Hub/blob/DeepLearning/Assign_1_DeepLearning.ipynb\" target=\"_parent\"><img src=\"https://colab.research.google.com/assets/colab-badge.svg\" alt=\"Open In Colab\"/></a>"
      ]
    },
    {
      "cell_type": "markdown",
      "source": [
        "# Assignment 1 Deep Learning and Neural Networks"
      ],
      "metadata": {
        "id": "FLPxZ1XcDBLT"
      }
    },
    {
      "cell_type": "code",
      "source": [
        "import tensorflow as tf\n",
        "import pandas as pd\n",
        "from sklearn.metrics import confusion_matrix\n",
        "from sklearn.metrics import accuracy_score\n",
        "import matplotlib.pyplot as plt"
      ],
      "metadata": {
        "id": "tZyhElE8DRKK"
      },
      "execution_count": 2,
      "outputs": []
    },
    {
      "cell_type": "code",
      "source": [
        "data = pd.read_excel(\"Concrete_Data.xls\")"
      ],
      "metadata": {
        "id": "IH3q2XE-DXal"
      },
      "execution_count": 4,
      "outputs": []
    },
    {
      "cell_type": "code",
      "source": [
        "data.info()"
      ],
      "metadata": {
        "colab": {
          "base_uri": "https://localhost:8080/"
        },
        "id": "wjOwbZlXDkfJ",
        "outputId": "ef321869-dd03-42bd-d332-5f62c30cec27"
      },
      "execution_count": 5,
      "outputs": [
        {
          "output_type": "stream",
          "name": "stdout",
          "text": [
            "<class 'pandas.core.frame.DataFrame'>\n",
            "RangeIndex: 1030 entries, 0 to 1029\n",
            "Data columns (total 9 columns):\n",
            " #   Column                                                 Non-Null Count  Dtype  \n",
            "---  ------                                                 --------------  -----  \n",
            " 0   Cement (component 1)(kg in a m^3 mixture)              1030 non-null   float64\n",
            " 1   Blast Furnace Slag (component 2)(kg in a m^3 mixture)  1030 non-null   float64\n",
            " 2   Fly Ash (component 3)(kg in a m^3 mixture)             1030 non-null   float64\n",
            " 3   Water  (component 4)(kg in a m^3 mixture)              1030 non-null   float64\n",
            " 4   Superplasticizer (component 5)(kg in a m^3 mixture)    1030 non-null   float64\n",
            " 5   Coarse Aggregate  (component 6)(kg in a m^3 mixture)   1030 non-null   float64\n",
            " 6   Fine Aggregate (component 7)(kg in a m^3 mixture)      1030 non-null   float64\n",
            " 7   Age (day)                                              1030 non-null   int64  \n",
            " 8   Concrete compressive strength(MPa, megapascals)        1030 non-null   float64\n",
            "dtypes: float64(8), int64(1)\n",
            "memory usage: 72.5 KB\n"
          ]
        }
      ]
    },
    {
      "cell_type": "markdown",
      "source": [
        "We see that there are no null datatypes in our dataset so we can safely assume that there are no potential null values in this dataset"
      ],
      "metadata": {
        "id": "HOI6YuIlDwGL"
      }
    },
    {
      "cell_type": "code",
      "source": [
        "dups = data.duplicated()\n",
        "for i in dups:\n",
        "  if i == True:\n",
        "    print(\"There are duplicates! \", i)"
      ],
      "metadata": {
        "colab": {
          "base_uri": "https://localhost:8080/"
        },
        "id": "qOHydTesEEKO",
        "outputId": "bb77e53c-532b-44cd-b40f-ecd74b55d39f"
      },
      "execution_count": 7,
      "outputs": [
        {
          "output_type": "stream",
          "name": "stdout",
          "text": [
            "There are duplicates!  True\n",
            "There are duplicates!  True\n",
            "There are duplicates!  True\n",
            "There are duplicates!  True\n",
            "There are duplicates!  True\n",
            "There are duplicates!  True\n",
            "There are duplicates!  True\n",
            "There are duplicates!  True\n",
            "There are duplicates!  True\n",
            "There are duplicates!  True\n",
            "There are duplicates!  True\n",
            "There are duplicates!  True\n",
            "There are duplicates!  True\n",
            "There are duplicates!  True\n",
            "There are duplicates!  True\n",
            "There are duplicates!  True\n",
            "There are duplicates!  True\n",
            "There are duplicates!  True\n",
            "There are duplicates!  True\n",
            "There are duplicates!  True\n",
            "There are duplicates!  True\n",
            "There are duplicates!  True\n",
            "There are duplicates!  True\n",
            "There are duplicates!  True\n",
            "There are duplicates!  True\n"
          ]
        }
      ]
    },
    {
      "cell_type": "markdown",
      "source": [
        "There are duplicates in our data, we will have to remove them to clean our dataset"
      ],
      "metadata": {
        "id": "b6xFA2F8EdoI"
      }
    }
  ]
}