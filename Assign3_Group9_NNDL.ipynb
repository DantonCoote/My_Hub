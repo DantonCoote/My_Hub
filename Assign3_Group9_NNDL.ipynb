{
  "nbformat": 4,
  "nbformat_minor": 0,
  "metadata": {
    "colab": {
      "provenance": [],
      "authorship_tag": "ABX9TyPXHlHJurCeDpa3PmTVozFo",
      "include_colab_link": true
    },
    "kernelspec": {
      "name": "python3",
      "display_name": "Python 3"
    },
    "language_info": {
      "name": "python"
    }
  },
  "cells": [
    {
      "cell_type": "markdown",
      "metadata": {
        "id": "view-in-github",
        "colab_type": "text"
      },
      "source": [
        "<a href=\"https://colab.research.google.com/github/DantonCoote/My_RRC_HUB/blob/DeepLearning/Assign3_Group9_NNDL.ipynb\" target=\"_parent\"><img src=\"https://colab.research.google.com/assets/colab-badge.svg\" alt=\"Open In Colab\"/></a>"
      ]
    },
    {
      "cell_type": "markdown",
      "source": [
        "# Assignment 3 for Neural Networks and Deep Learning"
      ],
      "metadata": {
        "id": "-6zkKo54wGyF"
      }
    },
    {
      "cell_type": "markdown",
      "source": [
        "## Step 1.1, Loading the Data"
      ],
      "metadata": {
        "id": "eJ_0nP7wwNO0"
      }
    },
    {
      "cell_type": "markdown",
      "source": [
        "In this assignment we are using a public built in dataset from the Tensorflow/Keras library.<br>\n",
        "This is a dataset of 50,000 32x32 color training images and 10,000 test images, labeled over 10 categories"
      ],
      "metadata": {
        "id": "_aBZfPLNwQxk"
      }
    },
    {
      "cell_type": "code",
      "execution_count": 1,
      "metadata": {
        "id": "WiYXOY_OuwNc"
      },
      "outputs": [],
      "source": [
        "import keras as ks\n",
        "\n",
        "\n",
        "(features_train, label_train), (features_test, label_test) = ks.datasets.cifar10.load_data()"
      ]
    },
    {
      "cell_type": "markdown",
      "source": [
        "Well things have been loaded. Time to explore our dataset. <br>\n",
        "There seems to be multiple ways to load this data, one of which doesn't load the set but instead generates it."
      ],
      "metadata": {
        "id": "S11kaFUqwENH"
      }
    },
    {
      "cell_type": "markdown",
      "source": [
        "## Step 1.2, Data Exploration"
      ],
      "metadata": {
        "id": "4C_fHgt4yEr9"
      }
    },
    {
      "cell_type": "code",
      "source": [
        "# combining data into single dataframes for analysis\n",
        "import numpy as np\n",
        "\n",
        "labels_t = np.concatenate([label_train, label_test])\n",
        "print(labels_t.shape)\n",
        "len(labels_t)"
      ],
      "metadata": {
        "colab": {
          "base_uri": "https://localhost:8080/"
        },
        "id": "nXdWiXMj9ja4",
        "outputId": "fc752f1c-1bf8-4eb3-c542-913f98cb1cdc"
      },
      "execution_count": 2,
      "outputs": [
        {
          "output_type": "stream",
          "name": "stdout",
          "text": [
            "(60000, 1)\n"
          ]
        },
        {
          "output_type": "execute_result",
          "data": {
            "text/plain": [
              "60000"
            ]
          },
          "metadata": {},
          "execution_count": 2
        }
      ]
    },
    {
      "cell_type": "code",
      "source": [
        "import pandas as pd\n",
        "df_labels = pd.DataFrame(labels_t, columns=['Label'])\n",
        "\n",
        "#counting our unique values and sorting them\n",
        "df_labels_counts = df_labels['Label'].value_counts().sort_index()\n",
        "df_labels_counts.info()"
      ],
      "metadata": {
        "colab": {
          "base_uri": "https://localhost:8080/"
        },
        "id": "zpb6BpLg7YYP",
        "outputId": "72f7814b-0450-4868-b47b-2705d4c9cf1e"
      },
      "execution_count": 3,
      "outputs": [
        {
          "output_type": "stream",
          "name": "stdout",
          "text": [
            "<class 'pandas.core.series.Series'>\n",
            "Index: 10 entries, 0 to 9\n",
            "Series name: count\n",
            "Non-Null Count  Dtype\n",
            "--------------  -----\n",
            "10 non-null     int64\n",
            "dtypes: int64(1)\n",
            "memory usage: 90.0 bytes\n"
          ]
        }
      ]
    },
    {
      "cell_type": "code",
      "source": [
        "import seaborn as sb\n",
        "sb.barplot(x=df_labels_counts.index, y=df_labels_counts.values)"
      ],
      "metadata": {
        "colab": {
          "base_uri": "https://localhost:8080/",
          "height": 466
        },
        "id": "IyUdAn8SvlmA",
        "outputId": "cd78a7d4-425c-42fb-ae97-67371021337c"
      },
      "execution_count": 4,
      "outputs": [
        {
          "output_type": "execute_result",
          "data": {
            "text/plain": [
              "<Axes: xlabel='Label'>"
            ]
          },
          "metadata": {},
          "execution_count": 4
        },
        {
          "output_type": "display_data",
          "data": {
            "text/plain": [
              "<Figure size 640x480 with 1 Axes>"
            ],
            "image/png": "[encoded data removed]"
          },
          "metadata": {}
        }
      ]
    },
    {
      "cell_type": "markdown",
      "source": [
        "Well we see a very even split of our data!"
      ],
      "metadata": {
        "id": "ejbbMHFUAPHW"
      }
    },
    {
      "cell_type": "code",
      "source": [
        "# Splitting our test data into validation and test sets\n",
        "from sklearn.model_selection import train_test_split as tts\n",
        "\n",
        "# actually testing our data\n",
        "test_data, val_data, test_labels, val_labels = tts(features_test, label_test, train_size= 0.5)\n",
        "print(len(val_data))\n",
        "print(len(test_data))\n",
        "print(len(val_labels))"
      ],
      "metadata": {
        "id": "MM82OfrN9gN2",
        "colab": {
          "base_uri": "https://localhost:8080/"
        },
        "outputId": "9851ea24-f3a8-4152-efec-c8960822ef7a"
      },
      "execution_count": 5,
      "outputs": [
        {
          "output_type": "stream",
          "name": "stdout",
          "text": [
            "5000\n",
            "5000\n",
            "5000\n"
          ]
        }
      ]
    },
    {
      "cell_type": "markdown",
      "source": [
        "Simply splitting our test data evenly between a test and validation set<br><br>\n",
        "Now I am going to attempt something a bit more extreme as I can build in data augmentation layers into my Neural Network. This is not something we have covered in class but it seems the newer Keras and Tensorflow libraries are more robust and allow for better information flow!\n"
      ],
      "metadata": {
        "id": "-IRymKTZDrDG"
      }
    },
    {
      "cell_type": "code",
      "source": [
        "# Gathering our data to combine it into Tensorflow dataset variables\n",
        "import tensorflow as tf\n",
        "\n",
        "training = tf.data.Dataset.from_tensor_slices((features_train, label_train)).batch(64)\n",
        "testing = tf.data.Dataset.from_tensor_slices((test_data, test_labels)).batch(64)\n",
        "validation = tf.data.Dataset.from_tensor_slices((val_data, val_labels)).batch(64)"
      ],
      "metadata": {
        "id": "8oSceFGWfNz3"
      },
      "execution_count": 6,
      "outputs": []
    },
    {
      "cell_type": "markdown",
      "source": [
        "## Step 2.1, My Original Model"
      ],
      "metadata": {
        "id": "u_yt575ErAFM"
      }
    },
    {
      "cell_type": "code",
      "source": [
        "# Lets build our model's preprocessing layers first\n",
        "from keras import Sequential # What our model will be built from\n",
        "\n",
        "# this we are resizing all images to 32 by 32, and scaling the pixels down by\n",
        "# a factor of 255\n",
        "resize_and_rescale = tf.keras.Sequential([\n",
        "  ks.layers.Resizing(32,32),\n",
        "  ks.layers.Rescaling(1./255)\n",
        "])"
      ],
      "metadata": {
        "id": "m5m8CpyLlH73"
      },
      "execution_count": 7,
      "outputs": []
    },
    {
      "cell_type": "code",
      "source": [
        "# here we add some layers to augment our data, mainly by adding\n",
        "# variation and noise\n",
        "data_augmentation = tf.keras.Sequential([\n",
        "  ks.layers.RandomFlip(\"horizontal_and_vertical\"),# Flips sections of image\n",
        "  ks.layers.RandomRotation(0.2)# rotates pixels within a range randomly\n",
        "])# the last layer should shift images randomly, adding blank spaces"
      ],
      "metadata": {
        "id": "o86eUkJToz1c"
      },
      "execution_count": 8,
      "outputs": []
    },
    {
      "cell_type": "markdown",
      "source": [
        "Do they work? I think so, we didn't get errors so that makes life easier. I am still figuring out all this new methodology at this time"
      ],
      "metadata": {
        "id": "rdghbmmyq0B-"
      }
    },
    {
      "cell_type": "code",
      "source": [
        "# Here we begin to build the actual Neural Network itself\n",
        "my_model = Sequential([\n",
        "    # adding our preprocessing layers\n",
        "    resize_and_rescale,\n",
        "    data_augmentation,\n",
        "\n",
        "    # adding our first major layers\n",
        "    ks.layers.Conv2D(32, (3,3), activation='relu',padding='same'),\n",
        "    # this layer puts everything into a 2D layer, combining it as a dot product\n",
        "    # of 32 (the filter)\n",
        "    ks.layers.MaxPooling2D((2,2)),\n",
        "    # This layer compounds our data, reducing our features while preserving depth\n",
        "    # making it more efficient and robust.\n",
        "\n",
        "    # Our second feature extraction layer\n",
        "    ks.layers.Conv2D(64, (3,3), activation='relu',padding='valid'),\n",
        "    ks.layers.MaxPooling2D((2,2)),\n",
        "\n",
        "    # Flatten the output from the convolutional layers\n",
        "    # before connecting to the dense layers\n",
        "    ks.layers.Flatten(),\n",
        "\n",
        "    # our interconnected layers that do the actual learning and decision making\n",
        "    ks.layers.Dense(512, activation='relu'),\n",
        "    ks.layers.Dense(256, activation='relu'),\n",
        "    ks.layers.Dense(128, activation='relu'),\n",
        "    ks.layers.Dense(64, activation='relu'),\n",
        "    ks.layers.Dense(10, activation='softmax')\n",
        "])"
      ],
      "metadata": {
        "id": "mU-EhO98qotf"
      },
      "execution_count": 9,
      "outputs": []
    },
    {
      "cell_type": "code",
      "source": [
        "my_model.compile(optimizer='lion',\n",
        "              loss=ks.losses.SparseCategoricalCrossentropy(),\n",
        "              metrics=['accuracy'])"
      ],
      "metadata": {
        "id": "UsKXzE5Nwl3-"
      },
      "execution_count": 10,
      "outputs": []
    },
    {
      "cell_type": "code",
      "source": [
        "my_model.summary()"
      ],
      "metadata": {
        "colab": {
          "base_uri": "https://localhost:8080/",
          "height": 459
        },
        "id": "SyjZq66Wy78I",
        "outputId": "1f399733-999d-4cb5-c7a0-6e21d0fc36e4"
      },
      "execution_count": 11,
      "outputs": [
        {
          "output_type": "display_data",
          "data": {
            "text/plain": [
              "\u001b[1mModel: \"sequential_2\"\u001b[0m\n"
            ],
            "text/html": [
              "<pre style=\"white-space:pre;overflow-x:auto;line-height:normal;font-family:Menlo,'DejaVu Sans Mono',consolas,'Courier New',monospace\"><span style=\"font-weight: bold\">Model: \"sequential_2\"</span>\n",
              "</pre>\n"
            ]
          },
          "metadata": {}
        },
        {
          "output_type": "display_data",
          "data": {
            "text/plain": [
              "┏━━━━━━━━━━━━━━━━━━━━━━━━━━━━━━━━━━━━━━┳━━━━━━━━━━━━━━━━━━━━━━━━━━━━━┳━━━━━━━━━━━━━━━━━┓\n",
              "┃\u001b[1m \u001b[0m\u001b[1mLayer (type)                        \u001b[0m\u001b[1m \u001b[0m┃\u001b[1m \u001b[0m\u001b[1mOutput Shape               \u001b[0m\u001b[1m \u001b[0m┃\u001b[1m \u001b[0m\u001b[1m        Param #\u001b[0m\u001b[1m \u001b[0m┃\n",
              "┡━━━━━━━━━━━━━━━━━━━━━━━━━━━━━━━━━━━━━━╇━━━━━━━━━━━━━━━━━━━━━━━━━━━━━╇━━━━━━━━━━━━━━━━━┩\n",
              "│ sequential (\u001b[38;5;33mSequential\u001b[0m)              │ ?                           │     \u001b[38;5;34m0\u001b[0m (unbuilt) │\n",
              "├──────────────────────────────────────┼─────────────────────────────┼─────────────────┤\n",
              "│ sequential_1 (\u001b[38;5;33mSequential\u001b[0m)            │ ?                           │     \u001b[38;5;34m0\u001b[0m (unbuilt) │\n",
              "├──────────────────────────────────────┼─────────────────────────────┼─────────────────┤\n",
              "│ conv2d (\u001b[38;5;33mConv2D\u001b[0m)                      │ ?                           │     \u001b[38;5;34m0\u001b[0m (unbuilt) │\n",
              "├──────────────────────────────────────┼─────────────────────────────┼─────────────────┤\n",
              "│ max_pooling2d (\u001b[38;5;33mMaxPooling2D\u001b[0m)         │ ?                           │     \u001b[38;5;34m0\u001b[0m (unbuilt) │\n",
              "├──────────────────────────────────────┼─────────────────────────────┼─────────────────┤\n",
              "│ conv2d_1 (\u001b[38;5;33mConv2D\u001b[0m)                    │ ?                           │     \u001b[38;5;34m0\u001b[0m (unbuilt) │\n",
              "├──────────────────────────────────────┼─────────────────────────────┼─────────────────┤\n",
              "│ max_pooling2d_1 (\u001b[38;5;33mMaxPooling2D\u001b[0m)       │ ?                           │     \u001b[38;5;34m0\u001b[0m (unbuilt) │\n",
              "├──────────────────────────────────────┼─────────────────────────────┼─────────────────┤\n",
              "│ flatten (\u001b[38;5;33mFlatten\u001b[0m)                    │ ?                           │     \u001b[38;5;34m0\u001b[0m (unbuilt) │\n",
              "├──────────────────────────────────────┼─────────────────────────────┼─────────────────┤\n",
              "│ dense (\u001b[38;5;33mDense\u001b[0m)                        │ ?                           │     \u001b[38;5;34m0\u001b[0m (unbuilt) │\n",
              "├──────────────────────────────────────┼─────────────────────────────┼─────────────────┤\n",
              "│ dense_1 (\u001b[38;5;33mDense\u001b[0m)                      │ ?                           │     \u001b[38;5;34m0\u001b[0m (unbuilt) │\n",
              "├──────────────────────────────────────┼─────────────────────────────┼─────────────────┤\n",
              "│ dense_2 (\u001b[38;5;33mDense\u001b[0m)                      │ ?                           │     \u001b[38;5;34m0\u001b[0m (unbuilt) │\n",
              "└──────────────────────────────────────┴─────────────────────────────┴─────────────────┘\n"
            ],
            "text/html": [
              "<pre style=\"white-space:pre;overflow-x:auto;line-height:normal;font-family:Menlo,'DejaVu Sans Mono',consolas,'Courier New',monospace\">┏━━━━━━━━━━━━━━━━━━━━━━━━━━━━━━━━━━━━━━┳━━━━━━━━━━━━━━━━━━━━━━━━━━━━━┳━━━━━━━━━━━━━━━━━┓\n",
              "┃<span style=\"font-weight: bold\"> Layer (type)                         </span>┃<span style=\"font-weight: bold\"> Output Shape                </span>┃<span style=\"font-weight: bold\">         Param # </span>┃\n",
              "┡━━━━━━━━━━━━━━━━━━━━━━━━━━━━━━━━━━━━━━╇━━━━━━━━━━━━━━━━━━━━━━━━━━━━━╇━━━━━━━━━━━━━━━━━┩\n",
              "│ sequential (<span style=\"color: #0087ff; text-decoration-color: #0087ff\">Sequential</span>)              │ ?                           │     <span style=\"color: #00af00; text-decoration-color: #00af00\">0</span> (unbuilt) │\n",
              "├──────────────────────────────────────┼─────────────────────────────┼─────────────────┤\n",
              "│ sequential_1 (<span style=\"color: #0087ff; text-decoration-color: #0087ff\">Sequential</span>)            │ ?                           │     <span style=\"color: #00af00; text-decoration-color: #00af00\">0</span> (unbuilt) │\n",
              "├──────────────────────────────────────┼─────────────────────────────┼─────────────────┤\n",
              "│ conv2d (<span style=\"color: #0087ff; text-decoration-color: #0087ff\">Conv2D</span>)                      │ ?                           │     <span style=\"color: #00af00; text-decoration-color: #00af00\">0</span> (unbuilt) │\n",
              "├──────────────────────────────────────┼─────────────────────────────┼─────────────────┤\n",
              "│ max_pooling2d (<span style=\"color: #0087ff; text-decoration-color: #0087ff\">MaxPooling2D</span>)         │ ?                           │     <span style=\"color: #00af00; text-decoration-color: #00af00\">0</span> (unbuilt) │\n",
              "├──────────────────────────────────────┼─────────────────────────────┼─────────────────┤\n",
              "│ conv2d_1 (<span style=\"color: #0087ff; text-decoration-color: #0087ff\">Conv2D</span>)                    │ ?                           │     <span style=\"color: #00af00; text-decoration-color: #00af00\">0</span> (unbuilt) │\n",
              "├──────────────────────────────────────┼─────────────────────────────┼─────────────────┤\n",
              "│ max_pooling2d_1 (<span style=\"color: #0087ff; text-decoration-color: #0087ff\">MaxPooling2D</span>)       │ ?                           │     <span style=\"color: #00af00; text-decoration-color: #00af00\">0</span> (unbuilt) │\n",
              "├──────────────────────────────────────┼─────────────────────────────┼─────────────────┤\n",
              "│ flatten (<span style=\"color: #0087ff; text-decoration-color: #0087ff\">Flatten</span>)                    │ ?                           │     <span style=\"color: #00af00; text-decoration-color: #00af00\">0</span> (unbuilt) │\n",
              "├──────────────────────────────────────┼─────────────────────────────┼─────────────────┤\n",
              "│ dense (<span style=\"color: #0087ff; text-decoration-color: #0087ff\">Dense</span>)                        │ ?                           │     <span style=\"color: #00af00; text-decoration-color: #00af00\">0</span> (unbuilt) │\n",
              "├──────────────────────────────────────┼─────────────────────────────┼─────────────────┤\n",
              "│ dense_1 (<span style=\"color: #0087ff; text-decoration-color: #0087ff\">Dense</span>)                      │ ?                           │     <span style=\"color: #00af00; text-decoration-color: #00af00\">0</span> (unbuilt) │\n",
              "├──────────────────────────────────────┼─────────────────────────────┼─────────────────┤\n",
              "│ dense_2 (<span style=\"color: #0087ff; text-decoration-color: #0087ff\">Dense</span>)                      │ ?                           │     <span style=\"color: #00af00; text-decoration-color: #00af00\">0</span> (unbuilt) │\n",
              "└──────────────────────────────────────┴─────────────────────────────┴─────────────────┘\n",
              "</pre>\n"
            ]
          },
          "metadata": {}
        },
        {
          "output_type": "display_data",
          "data": {
            "text/plain": [
              "\u001b[1m Total params: \u001b[0m\u001b[38;5;34m0\u001b[0m (0.00 B)\n"
            ],
            "text/html": [
              "<pre style=\"white-space:pre;overflow-x:auto;line-height:normal;font-family:Menlo,'DejaVu Sans Mono',consolas,'Courier New',monospace\"><span style=\"font-weight: bold\"> Total params: </span><span style=\"color: #00af00; text-decoration-color: #00af00\">0</span> (0.00 B)\n",
              "</pre>\n"
            ]
          },
          "metadata": {}
        },
        {
          "output_type": "display_data",
          "data": {
            "text/plain": [
              "\u001b[1m Trainable params: \u001b[0m\u001b[38;5;34m0\u001b[0m (0.00 B)\n"
            ],
            "text/html": [
              "<pre style=\"white-space:pre;overflow-x:auto;line-height:normal;font-family:Menlo,'DejaVu Sans Mono',consolas,'Courier New',monospace\"><span style=\"font-weight: bold\"> Trainable params: </span><span style=\"color: #00af00; text-decoration-color: #00af00\">0</span> (0.00 B)\n",
              "</pre>\n"
            ]
          },
          "metadata": {}
        },
        {
          "output_type": "display_data",
          "data": {
            "text/plain": [
              "\u001b[1m Non-trainable params: \u001b[0m\u001b[38;5;34m0\u001b[0m (0.00 B)\n"
            ],
            "text/html": [
              "<pre style=\"white-space:pre;overflow-x:auto;line-height:normal;font-family:Menlo,'DejaVu Sans Mono',consolas,'Courier New',monospace\"><span style=\"font-weight: bold\"> Non-trainable params: </span><span style=\"color: #00af00; text-decoration-color: #00af00\">0</span> (0.00 B)\n",
              "</pre>\n"
            ]
          },
          "metadata": {}
        }
      ]
    },
    {
      "cell_type": "code",
      "source": [
        "history = my_model.fit(training, validation_data=validation, epochs=10)"
      ],
      "metadata": {
        "colab": {
          "base_uri": "https://localhost:8080/"
        },
        "id": "WzH3oDSEx8Ph",
        "outputId": "3f7309b8-0ee8-4877-8ff8-5ab0dd475d40"
      },
      "execution_count": 12,
      "outputs": [
        {
          "output_type": "stream",
          "name": "stdout",
          "text": [
            "Epoch 1/10\n",
            "\u001b[1m782/782\u001b[0m \u001b[32m━━━━━━━━━━━━━━━━━━━━\u001b[0m\u001b[37m\u001b[0m \u001b[1m93s\u001b[0m 113ms/step - accuracy: 0.2905 - loss: 1.9202 - val_accuracy: 0.4346 - val_loss: 1.5654\n",
            "Epoch 2/10\n",
            "\u001b[1m782/782\u001b[0m \u001b[32m━━━━━━━━━━━━━━━━━━━━\u001b[0m\u001b[37m\u001b[0m \u001b[1m86s\u001b[0m 110ms/step - accuracy: 0.4245 - loss: 1.5895 - val_accuracy: 0.4800 - val_loss: 1.4675\n",
            "Epoch 3/10\n",
            "\u001b[1m782/782\u001b[0m \u001b[32m━━━━━━━━━━━━━━━━━━━━\u001b[0m\u001b[37m\u001b[0m \u001b[1m83s\u001b[0m 107ms/step - accuracy: 0.4465 - loss: 1.5353 - val_accuracy: 0.4614 - val_loss: 1.5123\n",
            "Epoch 4/10\n",
            "\u001b[1m782/782\u001b[0m \u001b[32m━━━━━━━━━━━━━━━━━━━━\u001b[0m\u001b[37m\u001b[0m \u001b[1m142s\u001b[0m 107ms/step - accuracy: 0.4611 - loss: 1.4959 - val_accuracy: 0.4912 - val_loss: 1.4634\n",
            "Epoch 5/10\n",
            "\u001b[1m782/782\u001b[0m \u001b[32m━━━━━━━━━━━━━━━━━━━━\u001b[0m\u001b[37m\u001b[0m \u001b[1m107s\u001b[0m 137ms/step - accuracy: 0.4753 - loss: 1.4682 - val_accuracy: 0.4950 - val_loss: 1.4391\n",
            "Epoch 6/10\n",
            "\u001b[1m782/782\u001b[0m \u001b[32m━━━━━━━━━━━━━━━━━━━━\u001b[0m\u001b[37m\u001b[0m \u001b[1m134s\u001b[0m 127ms/step - accuracy: 0.4538 - loss: 1.5183 - val_accuracy: 0.4736 - val_loss: 1.4908\n",
            "Epoch 7/10\n",
            "\u001b[1m782/782\u001b[0m \u001b[32m━━━━━━━━━━━━━━━━━━━━\u001b[0m\u001b[37m\u001b[0m \u001b[1m93s\u001b[0m 119ms/step - accuracy: 0.4770 - loss: 1.4610 - val_accuracy: 0.4816 - val_loss: 1.4698\n",
            "Epoch 8/10\n",
            "\u001b[1m782/782\u001b[0m \u001b[32m━━━━━━━━━━━━━━━━━━━━\u001b[0m\u001b[37m\u001b[0m \u001b[1m88s\u001b[0m 113ms/step - accuracy: 0.4129 - loss: 1.6568 - val_accuracy: 0.3434 - val_loss: 1.7912\n",
            "Epoch 9/10\n",
            "\u001b[1m782/782\u001b[0m \u001b[32m━━━━━━━━━━━━━━━━━━━━\u001b[0m\u001b[37m\u001b[0m \u001b[1m97s\u001b[0m 125ms/step - accuracy: 0.3229 - loss: 1.8698 - val_accuracy: 0.3236 - val_loss: 1.8290\n",
            "Epoch 10/10\n",
            "\u001b[1m782/782\u001b[0m \u001b[32m━━━━━━━━━━━━━━━━━━━━\u001b[0m\u001b[37m\u001b[0m \u001b[1m130s\u001b[0m 109ms/step - accuracy: 0.3324 - loss: 1.7916 - val_accuracy: 0.3640 - val_loss: 1.7371\n"
          ]
        }
      ]
    },
    {
      "cell_type": "code",
      "source": [
        "# Saving the model for future use as my god these things take forever to train\n",
        "my_model.save('my_model.keras',overwrite=True)"
      ],
      "metadata": {
        "id": "VeQk02UkzB4Q"
      },
      "execution_count": 19,
      "outputs": []
    },
    {
      "cell_type": "code",
      "source": [],
      "metadata": {
        "id": "d0dIpkMd_Yg3"
      },
      "execution_count": null,
      "outputs": []
    }
  ]
}