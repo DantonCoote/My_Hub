{
  "nbformat": 4,
  "nbformat_minor": 0,
  "metadata": {
    "colab": {
      "provenance": [],
      "authorship_tag": "ABX9TyMhRJheGX6f9fCyYNEAFK/V",
      "include_colab_link": true
    },
    "kernelspec": {
      "name": "python3",
      "display_name": "Python 3"
    },
    "language_info": {
      "name": "python"
    }
  },
  "cells": [
    {
      "cell_type": "markdown",
      "metadata": {
        "id": "view-in-github",
        "colab_type": "text"
      },
      "source": [
        "<a href=\"https://colab.research.google.com/github/DantonCoote/My_Hub/blob/DeepLearning/Assign_2_Group_9_NNDL.ipynb\" target=\"_parent\"><img src=\"https://colab.research.google.com/assets/colab-badge.svg\" alt=\"Open In Colab\"/></a>"
      ]
    },
    {
      "cell_type": "markdown",
      "source": [
        "# Assignment 2, Fruit Classification"
      ],
      "metadata": {
        "id": "hy7SoWz_s1EI"
      }
    },
    {
      "cell_type": "markdown",
      "source": [
        "## Step 1.1, Loading and cleaning our Data"
      ],
      "metadata": {
        "id": "5M0dmKRgt6r0"
      }
    },
    {
      "cell_type": "code",
      "execution_count": 1,
      "metadata": {
        "colab": {
          "base_uri": "https://localhost:8080/",
          "height": 350
        },
        "id": "yga2SNrfsfw1",
        "outputId": "e2835875-ed07-4e04-e654-ef634fdaff52"
      },
      "outputs": [
        {
          "output_type": "execute_result",
          "data": {
            "text/plain": [
              "                AREA    PERIMETER   MAJOR_AXIS  MINOR_AXIS  ECCENTRICITY  \\\n",
              "count     898.000000   898.000000   898.000000  898.000000    898.000000   \n",
              "mean   298295.207127  2057.660953   750.811994  495.872785      0.737468   \n",
              "std    107245.205337   410.012459   144.059326  114.268917      0.088727   \n",
              "min      1987.000000   911.828000   336.722700    2.283200      0.344800   \n",
              "25%    206948.000000  1726.091500   641.068650  404.684375      0.685625   \n",
              "50%    319833.000000  2196.345450   791.363400  495.054850      0.754700   \n",
              "75%    382573.000000  2389.716575   858.633750  589.031700      0.802150   \n",
              "max    546063.000000  2811.997100  1222.723000  766.453600      1.000000   \n",
              "\n",
              "          EQDIASQ    SOLIDITY    CONVEX_AREA      EXTENT  ASPECT_RATIO  ...  \\\n",
              "count  898.000000  898.000000     898.000000  898.000000    898.000000  ...   \n",
              "mean   604.577938    0.981840  303845.592428    0.736267      2.131102  ...   \n",
              "std    119.593888    0.018157  108815.656947    0.053745     17.820778  ...   \n",
              "min     50.298400    0.836600    2257.000000    0.512300      1.065300  ...   \n",
              "25%    513.317075    0.978825  210022.750000    0.705875      1.373725  ...   \n",
              "50%    638.140950    0.987300  327207.000000    0.746950      1.524150  ...   \n",
              "75%    697.930525    0.991800  388804.000000    0.775850      1.674750  ...   \n",
              "max    833.827900    0.997400  552598.000000    0.856200    535.525700  ...   \n",
              "\n",
              "           SkewRB  KurtosisRR  KurtosisRG  KurtosisRB     EntropyRR  \\\n",
              "count  898.000000  898.000000  898.000000  898.000000  8.980000e+02   \n",
              "mean     0.250518    4.247845    5.110894    3.780928 -3.185021e+10   \n",
              "std      0.632918    2.892357    3.745463    2.049831  2.037241e+10   \n",
              "min     -1.029100    1.708200    1.607600    1.767200 -1.091220e+11   \n",
              "25%     -0.196950    2.536625    2.508850    2.577275 -4.429444e+10   \n",
              "50%      0.135550    3.069800    3.127800    3.080700 -2.826156e+10   \n",
              "75%      0.593950    4.449850    7.320400    4.283125 -1.460482e+10   \n",
              "max      3.092300   26.171100   26.736700   32.249500 -1.627316e+08   \n",
              "\n",
              "          EntropyRG     EntropyRB  ALLdaub4RR  ALLdaub4RG  ALLdaub4RB  \n",
              "count  8.980000e+02  8.980000e+02  898.000000  898.000000  898.000000  \n",
              "mean  -2.901860e+10 -2.771876e+10   50.082888   48.805681   48.098393  \n",
              "std    1.712952e+10  1.484137e+10   16.063125   14.125911   10.813862  \n",
              "min   -9.261697e+10 -8.747177e+10   15.191100   20.524700   22.130000  \n",
              "25%   -3.894638e+10 -3.564534e+10   38.224425   38.654525   39.250725  \n",
              "50%   -2.620990e+10 -2.392928e+10   53.841300   50.337800   49.614100  \n",
              "75%   -1.433105e+10 -1.660367e+10   63.063350   59.573600   56.666675  \n",
              "max   -5.627727e+08 -4.370435e+08   79.828900   83.064900   74.104600  \n",
              "\n",
              "[8 rows x 34 columns]"
            ],
            "text/html": [
              "\n",
              "  <div id=\"df-1502c0c8-a671-47be-9c83-a187e9f0b3d3\" class=\"colab-df-container\">\n",
              "    <div>\n",
              "<style scoped>\n",
              "    .dataframe tbody tr th:only-of-type {\n",
              "        vertical-align: middle;\n",
              "    }\n",
              "\n",
              "    .dataframe tbody tr th {\n",
              "        vertical-align: top;\n",
              "    }\n",
              "\n",
              "    .dataframe thead th {\n",
              "        text-align: right;\n",
              "    }\n",
              "</style>\n",
              "<table border=\"1\" class=\"dataframe\">\n",
              "  <thead>\n",
              "    <tr style=\"text-align: right;\">\n",
              "      <th></th>\n",
              "      <th>AREA</th>\n",
              "      <th>PERIMETER</th>\n",
              "      <th>MAJOR_AXIS</th>\n",
              "      <th>MINOR_AXIS</th>\n",
              "      <th>ECCENTRICITY</th>\n",
              "      <th>EQDIASQ</th>\n",
              "      <th>SOLIDITY</th>\n",
              "      <th>CONVEX_AREA</th>\n",
              "      <th>EXTENT</th>\n",
              "      <th>ASPECT_RATIO</th>\n",
              "      <th>...</th>\n",
              "      <th>SkewRB</th>\n",
              "      <th>KurtosisRR</th>\n",
              "      <th>KurtosisRG</th>\n",
              "      <th>KurtosisRB</th>\n",
              "      <th>EntropyRR</th>\n",
              "      <th>EntropyRG</th>\n",
              "      <th>EntropyRB</th>\n",
              "      <th>ALLdaub4RR</th>\n",
              "      <th>ALLdaub4RG</th>\n",
              "      <th>ALLdaub4RB</th>\n",
              "    </tr>\n",
              "  </thead>\n",
              "  <tbody>\n",
              "    <tr>\n",
              "      <th>count</th>\n",
              "      <td>898.000000</td>\n",
              "      <td>898.000000</td>\n",
              "      <td>898.000000</td>\n",
              "      <td>898.000000</td>\n",
              "      <td>898.000000</td>\n",
              "      <td>898.000000</td>\n",
              "      <td>898.000000</td>\n",
              "      <td>898.000000</td>\n",
              "      <td>898.000000</td>\n",
              "      <td>898.000000</td>\n",
              "      <td>...</td>\n",
              "      <td>898.000000</td>\n",
              "      <td>898.000000</td>\n",
              "      <td>898.000000</td>\n",
              "      <td>898.000000</td>\n",
              "      <td>8.980000e+02</td>\n",
              "      <td>8.980000e+02</td>\n",
              "      <td>8.980000e+02</td>\n",
              "      <td>898.000000</td>\n",
              "      <td>898.000000</td>\n",
              "      <td>898.000000</td>\n",
              "    </tr>\n",
              "    <tr>\n",
              "      <th>mean</th>\n",
              "      <td>298295.207127</td>\n",
              "      <td>2057.660953</td>\n",
              "      <td>750.811994</td>\n",
              "      <td>495.872785</td>\n",
              "      <td>0.737468</td>\n",
              "      <td>604.577938</td>\n",
              "      <td>0.981840</td>\n",
              "      <td>303845.592428</td>\n",
              "      <td>0.736267</td>\n",
              "      <td>2.131102</td>\n",
              "      <td>...</td>\n",
              "      <td>0.250518</td>\n",
              "      <td>4.247845</td>\n",
              "      <td>5.110894</td>\n",
              "      <td>3.780928</td>\n",
              "      <td>-3.185021e+10</td>\n",
              "      <td>-2.901860e+10</td>\n",
              "      <td>-2.771876e+10</td>\n",
              "      <td>50.082888</td>\n",
              "      <td>48.805681</td>\n",
              "      <td>48.098393</td>\n",
              "    </tr>\n",
              "    <tr>\n",
              "      <th>std</th>\n",
              "      <td>107245.205337</td>\n",
              "      <td>410.012459</td>\n",
              "      <td>144.059326</td>\n",
              "      <td>114.268917</td>\n",
              "      <td>0.088727</td>\n",
              "      <td>119.593888</td>\n",
              "      <td>0.018157</td>\n",
              "      <td>108815.656947</td>\n",
              "      <td>0.053745</td>\n",
              "      <td>17.820778</td>\n",
              "      <td>...</td>\n",
              "      <td>0.632918</td>\n",
              "      <td>2.892357</td>\n",
              "      <td>3.745463</td>\n",
              "      <td>2.049831</td>\n",
              "      <td>2.037241e+10</td>\n",
              "      <td>1.712952e+10</td>\n",
              "      <td>1.484137e+10</td>\n",
              "      <td>16.063125</td>\n",
              "      <td>14.125911</td>\n",
              "      <td>10.813862</td>\n",
              "    </tr>\n",
              "    <tr>\n",
              "      <th>min</th>\n",
              "      <td>1987.000000</td>\n",
              "      <td>911.828000</td>\n",
              "      <td>336.722700</td>\n",
              "      <td>2.283200</td>\n",
              "      <td>0.344800</td>\n",
              "      <td>50.298400</td>\n",
              "      <td>0.836600</td>\n",
              "      <td>2257.000000</td>\n",
              "      <td>0.512300</td>\n",
              "      <td>1.065300</td>\n",
              "      <td>...</td>\n",
              "      <td>-1.029100</td>\n",
              "      <td>1.708200</td>\n",
              "      <td>1.607600</td>\n",
              "      <td>1.767200</td>\n",
              "      <td>-1.091220e+11</td>\n",
              "      <td>-9.261697e+10</td>\n",
              "      <td>-8.747177e+10</td>\n",
              "      <td>15.191100</td>\n",
              "      <td>20.524700</td>\n",
              "      <td>22.130000</td>\n",
              "    </tr>\n",
              "    <tr>\n",
              "      <th>25%</th>\n",
              "      <td>206948.000000</td>\n",
              "      <td>1726.091500</td>\n",
              "      <td>641.068650</td>\n",
              "      <td>404.684375</td>\n",
              "      <td>0.685625</td>\n",
              "      <td>513.317075</td>\n",
              "      <td>0.978825</td>\n",
              "      <td>210022.750000</td>\n",
              "      <td>0.705875</td>\n",
              "      <td>1.373725</td>\n",
              "      <td>...</td>\n",
              "      <td>-0.196950</td>\n",
              "      <td>2.536625</td>\n",
              "      <td>2.508850</td>\n",
              "      <td>2.577275</td>\n",
              "      <td>-4.429444e+10</td>\n",
              "      <td>-3.894638e+10</td>\n",
              "      <td>-3.564534e+10</td>\n",
              "      <td>38.224425</td>\n",
              "      <td>38.654525</td>\n",
              "      <td>39.250725</td>\n",
              "    </tr>\n",
              "    <tr>\n",
              "      <th>50%</th>\n",
              "      <td>319833.000000</td>\n",
              "      <td>2196.345450</td>\n",
              "      <td>791.363400</td>\n",
              "      <td>495.054850</td>\n",
              "      <td>0.754700</td>\n",
              "      <td>638.140950</td>\n",
              "      <td>0.987300</td>\n",
              "      <td>327207.000000</td>\n",
              "      <td>0.746950</td>\n",
              "      <td>1.524150</td>\n",
              "      <td>...</td>\n",
              "      <td>0.135550</td>\n",
              "      <td>3.069800</td>\n",
              "      <td>3.127800</td>\n",
              "      <td>3.080700</td>\n",
              "      <td>-2.826156e+10</td>\n",
              "      <td>-2.620990e+10</td>\n",
              "      <td>-2.392928e+10</td>\n",
              "      <td>53.841300</td>\n",
              "      <td>50.337800</td>\n",
              "      <td>49.614100</td>\n",
              "    </tr>\n",
              "    <tr>\n",
              "      <th>75%</th>\n",
              "      <td>382573.000000</td>\n",
              "      <td>2389.716575</td>\n",
              "      <td>858.633750</td>\n",
              "      <td>589.031700</td>\n",
              "      <td>0.802150</td>\n",
              "      <td>697.930525</td>\n",
              "      <td>0.991800</td>\n",
              "      <td>388804.000000</td>\n",
              "      <td>0.775850</td>\n",
              "      <td>1.674750</td>\n",
              "      <td>...</td>\n",
              "      <td>0.593950</td>\n",
              "      <td>4.449850</td>\n",
              "      <td>7.320400</td>\n",
              "      <td>4.283125</td>\n",
              "      <td>-1.460482e+10</td>\n",
              "      <td>-1.433105e+10</td>\n",
              "      <td>-1.660367e+10</td>\n",
              "      <td>63.063350</td>\n",
              "      <td>59.573600</td>\n",
              "      <td>56.666675</td>\n",
              "    </tr>\n",
              "    <tr>\n",
              "      <th>max</th>\n",
              "      <td>546063.000000</td>\n",
              "      <td>2811.997100</td>\n",
              "      <td>1222.723000</td>\n",
              "      <td>766.453600</td>\n",
              "      <td>1.000000</td>\n",
              "      <td>833.827900</td>\n",
              "      <td>0.997400</td>\n",
              "      <td>552598.000000</td>\n",
              "      <td>0.856200</td>\n",
              "      <td>535.525700</td>\n",
              "      <td>...</td>\n",
              "      <td>3.092300</td>\n",
              "      <td>26.171100</td>\n",
              "      <td>26.736700</td>\n",
              "      <td>32.249500</td>\n",
              "      <td>-1.627316e+08</td>\n",
              "      <td>-5.627727e+08</td>\n",
              "      <td>-4.370435e+08</td>\n",
              "      <td>79.828900</td>\n",
              "      <td>83.064900</td>\n",
              "      <td>74.104600</td>\n",
              "    </tr>\n",
              "  </tbody>\n",
              "</table>\n",
              "<p>8 rows × 34 columns</p>\n",
              "</div>\n",
              "    <div class=\"colab-df-buttons\">\n",
              "      \n",
              "  <div class=\"colab-df-container\">\n",
              "    <button class=\"colab-df-convert\" onclick=\"convertToInteractive('df-1502c0c8-a671-47be-9c83-a187e9f0b3d3')\"\n",
              "            title=\"Convert this dataframe to an interactive table.\"\n",
              "            style=\"display:none;\">\n",
              "      \n",
              "  <svg xmlns=\"http://www.w3.org/2000/svg\" height=\"24px\" viewBox=\"0 -960 960 960\">\n",
              "    <path d=\"M120-120v-720h720v720H120Zm60-500h600v-160H180v160Zm220 220h160v-160H400v160Zm0 220h160v-160H400v160ZM180-400h160v-160H180v160Zm440 0h160v-160H620v160ZM180-180h160v-160H180v160Zm440 0h160v-160H620v160Z\"/>\n",
              "  </svg>\n",
              "    </button>\n",
              "    \n",
              "  <style>\n",
              "    .colab-df-container {\n",
              "      display:flex;\n",
              "      gap: 12px;\n",
              "    }\n",
              "\n",
              "    .colab-df-convert {\n",
              "      background-color: #E8F0FE;\n",
              "      border: none;\n",
              "      border-radius: 50%;\n",
              "      cursor: pointer;\n",
              "      display: none;\n",
              "      fill: #1967D2;\n",
              "      height: 32px;\n",
              "      padding: 0 0 0 0;\n",
              "      width: 32px;\n",
              "    }\n",
              "\n",
              "    .colab-df-convert:hover {\n",
              "      background-color: #E2EBFA;\n",
              "      box-shadow: 0px 1px 2px rgba(60, 64, 67, 0.3), 0px 1px 3px 1px rgba(60, 64, 67, 0.15);\n",
              "      fill: #174EA6;\n",
              "    }\n",
              "\n",
              "    .colab-df-buttons div {\n",
              "      margin-bottom: 4px;\n",
              "    }\n",
              "\n",
              "    [theme=dark] .colab-df-convert {\n",
              "      background-color: #3B4455;\n",
              "      fill: #D2E3FC;\n",
              "    }\n",
              "\n",
              "    [theme=dark] .colab-df-convert:hover {\n",
              "      background-color: #434B5C;\n",
              "      box-shadow: 0px 1px 3px 1px rgba(0, 0, 0, 0.15);\n",
              "      filter: drop-shadow(0px 1px 2px rgba(0, 0, 0, 0.3));\n",
              "      fill: #FFFFFF;\n",
              "    }\n",
              "  </style>\n",
              "\n",
              "    <script>\n",
              "      const buttonEl =\n",
              "        document.querySelector('#df-1502c0c8-a671-47be-9c83-a187e9f0b3d3 button.colab-df-convert');\n",
              "      buttonEl.style.display =\n",
              "        google.colab.kernel.accessAllowed ? 'block' : 'none';\n",
              "\n",
              "      async function convertToInteractive(key) {\n",
              "        const element = document.querySelector('#df-1502c0c8-a671-47be-9c83-a187e9f0b3d3');\n",
              "        const dataTable =\n",
              "          await google.colab.kernel.invokeFunction('convertToInteractive',\n",
              "                                                    [key], {});\n",
              "        if (!dataTable) return;\n",
              "\n",
              "        const docLinkHtml = 'Like what you see? Visit the ' +\n",
              "          '<a target=\"_blank\" href=https://colab.research.google.com/notebooks/data_table.ipynb>data table notebook</a>'\n",
              "          + ' to learn more about interactive tables.';\n",
              "        element.innerHTML = '';\n",
              "        dataTable['output_type'] = 'display_data';\n",
              "        await google.colab.output.renderOutput(dataTable, element);\n",
              "        const docLink = document.createElement('div');\n",
              "        docLink.innerHTML = docLinkHtml;\n",
              "        element.appendChild(docLink);\n",
              "      }\n",
              "    </script>\n",
              "  </div>\n",
              "  \n",
              "    </div>\n",
              "  </div>\n",
              "  "
            ]
          },
          "metadata": {},
          "execution_count": 1
        }
      ],
      "source": [
        "import pandas as pd\n",
        "\n",
        "#beginning by loading our data\n",
        "data = pd.read_csv('Date_Fruit_Datasets.csv')\n",
        "data.describe()"
      ]
    },
    {
      "cell_type": "markdown",
      "source": [
        "There is a lot of data here! 34 columns and we see that there is some large deviations in our data, this is good as it will make training a classifier easier."
      ],
      "metadata": {
        "id": "GCGQ2t0huXwu"
      }
    },
    {
      "cell_type": "code",
      "source": [
        "data.info()"
      ],
      "metadata": {
        "colab": {
          "base_uri": "https://localhost:8080/"
        },
        "id": "3j-XwSLttZAd",
        "outputId": "8a45664a-01b9-4265-a484-ee05d8be7ec1"
      },
      "execution_count": 2,
      "outputs": [
        {
          "output_type": "stream",
          "name": "stdout",
          "text": [
            "<class 'pandas.core.frame.DataFrame'>\n",
            "RangeIndex: 898 entries, 0 to 897\n",
            "Data columns (total 35 columns):\n",
            " #   Column         Non-Null Count  Dtype  \n",
            "---  ------         --------------  -----  \n",
            " 0   AREA           898 non-null    int64  \n",
            " 1   PERIMETER      898 non-null    float64\n",
            " 2   MAJOR_AXIS     898 non-null    float64\n",
            " 3   MINOR_AXIS     898 non-null    float64\n",
            " 4   ECCENTRICITY   898 non-null    float64\n",
            " 5   EQDIASQ        898 non-null    float64\n",
            " 6   SOLIDITY       898 non-null    float64\n",
            " 7   CONVEX_AREA    898 non-null    int64  \n",
            " 8   EXTENT         898 non-null    float64\n",
            " 9   ASPECT_RATIO   898 non-null    float64\n",
            " 10  ROUNDNESS      898 non-null    float64\n",
            " 11  COMPACTNESS    898 non-null    float64\n",
            " 12  SHAPEFACTOR_1  898 non-null    float64\n",
            " 13  SHAPEFACTOR_2  898 non-null    float64\n",
            " 14  SHAPEFACTOR_3  898 non-null    float64\n",
            " 15  SHAPEFACTOR_4  898 non-null    float64\n",
            " 16  MeanRR         898 non-null    float64\n",
            " 17  MeanRG         898 non-null    float64\n",
            " 18  MeanRB         898 non-null    float64\n",
            " 19  StdDevRR       898 non-null    float64\n",
            " 20  StdDevRG       898 non-null    float64\n",
            " 21  StdDevRB       898 non-null    float64\n",
            " 22  SkewRR         898 non-null    float64\n",
            " 23  SkewRG         898 non-null    float64\n",
            " 24  SkewRB         898 non-null    float64\n",
            " 25  KurtosisRR     898 non-null    float64\n",
            " 26  KurtosisRG     898 non-null    float64\n",
            " 27  KurtosisRB     898 non-null    float64\n",
            " 28  EntropyRR      898 non-null    float64\n",
            " 29  EntropyRG      898 non-null    int64  \n",
            " 30  EntropyRB      898 non-null    int64  \n",
            " 31  ALLdaub4RR     898 non-null    float64\n",
            " 32  ALLdaub4RG     898 non-null    float64\n",
            " 33  ALLdaub4RB     898 non-null    float64\n",
            " 34  Class          898 non-null    object \n",
            "dtypes: float64(30), int64(4), object(1)\n",
            "memory usage: 245.7+ KB\n"
          ]
        }
      ]
    },
    {
      "cell_type": "markdown",
      "source": [
        "Looking good for our data, no null values should be within it and we have a label known as Class that will help train accuracy"
      ],
      "metadata": {
        "id": "hUv7roCRurPo"
      }
    },
    {
      "cell_type": "code",
      "source": [
        "#Checking for duplicates\n",
        "dups = data.duplicated()\n",
        "for i in dups:\n",
        "  if i == True:\n",
        "    print(\"There are duplicates\")\n",
        "    break"
      ],
      "metadata": {
        "id": "jn1LWLJzt5qJ"
      },
      "execution_count": 3,
      "outputs": []
    },
    {
      "cell_type": "markdown",
      "source": [
        "With no output we can assume there are no duplicates"
      ],
      "metadata": {
        "id": "e2zpZIybvSFJ"
      }
    },
    {
      "cell_type": "markdown",
      "source": [
        "## Step 1.2, Data Exploration"
      ],
      "metadata": {
        "id": "YkVubmUAvfYx"
      }
    },
    {
      "cell_type": "code",
      "source": [
        "import seaborn as sb\n",
        "\n",
        "sb.barplot(data)"
      ],
      "metadata": {
        "colab": {
          "base_uri": "https://localhost:8080/",
          "height": 462
        },
        "id": "6stTm-CAvQz1",
        "outputId": "26e0cbf4-4c62-41f3-aeda-5f9cfa2545a4"
      },
      "execution_count": 4,
      "outputs": [
        {
          "output_type": "execute_result",
          "data": {
            "text/plain": [
              "<Axes: >"
            ]
          },
          "metadata": {},
          "execution_count": 4
        },
        {
          "output_type": "display_data",
          "data": {
            "text/plain": [
              "<Figure size 640x480 with 1 Axes>"
            ],
            "image/png": "[encoded data removed]"
          },
          "metadata": {}
        }
      ]
    },
    {
      "cell_type": "markdown",
      "source": [
        "This bar plot, though weird looking, shows that our data is not very well scaled. We have a wide variety of ranges for our numerical data which makes our bar plot seeem very scewed. We will need to scale the data before using it train a model or else we will have very inaccurate results (Speaking from experience)"
      ],
      "metadata": {
        "id": "jy0rYukjEbFa"
      }
    },
    {
      "cell_type": "code",
      "source": [
        "#moving labels to dataframe\n",
        "labels = data['Class']\n",
        "\n",
        "#dropping labels from original dataframe\n",
        "data = data.drop('Class', axis=1)\n",
        "\n",
        "# reshaping dataframe to 2D array\n",
        "labels = labels.to_numpy().reshape((-1, 1))\n",
        "labels.shape"
      ],
      "metadata": {
        "id": "XMwfR8zKvsC_",
        "colab": {
          "base_uri": "https://localhost:8080/"
        },
        "outputId": "a83ec9ca-14e0-4ecb-ddc9-8ff2f22bc5f7"
      },
      "execution_count": 16,
      "outputs": [
        {
          "output_type": "execute_result",
          "data": {
            "text/plain": [
              "(898, 1)"
            ]
          },
          "metadata": {},
          "execution_count": 16
        }
      ]
    },
    {
      "cell_type": "code",
      "source": [
        "# Confirming\n",
        "print(data.info)\n",
        "labels[:5]"
      ],
      "metadata": {
        "colab": {
          "base_uri": "https://localhost:8080/"
        },
        "id": "UoIw5L0zHD2m",
        "outputId": "e79a6d0b-4981-44e1-f1c7-316e07e038e2"
      },
      "execution_count": 17,
      "outputs": [
        {
          "output_type": "stream",
          "name": "stdout",
          "text": [
            "<bound method DataFrame.info of        AREA  PERIMETER  MAJOR_AXIS  MINOR_AXIS  ECCENTRICITY   EQDIASQ  \\\n",
            "0    422163  2378.9080    837.8484    645.6693        0.6373  733.1539   \n",
            "1    338136  2085.1440    723.8198    595.2073        0.5690  656.1464   \n",
            "2    526843  2647.3940    940.7379    715.3638        0.6494  819.0222   \n",
            "3    416063  2351.2100    827.9804    645.2988        0.6266  727.8378   \n",
            "4    347562  2160.3540    763.9877    582.8359        0.6465  665.2291   \n",
            "..      ...        ...         ...         ...           ...       ...   \n",
            "893  255403  1925.3650    691.8453    477.1796        0.7241  570.2536   \n",
            "894  365924  2664.8230    855.4633    551.5447        0.7644  682.5752   \n",
            "895  254330  1926.7360    747.4943    435.6219        0.8126  569.0545   \n",
            "896  238955  1906.2679    716.6485    441.8297        0.7873  551.5859   \n",
            "897  343792  2289.2720    823.8438    534.7757        0.7607  661.6113   \n",
            "\n",
            "     SOLIDITY  CONVEX_AREA  EXTENT  ASPECT_RATIO  ...  SkewRB  KurtosisRR  \\\n",
            "0      0.9947       424428  0.7831        1.2976  ...  0.6019      3.2370   \n",
            "1      0.9974       339014  0.7795        1.2161  ...  0.4134      2.6228   \n",
            "2      0.9962       528876  0.7657        1.3150  ...  0.9183      3.7516   \n",
            "3      0.9948       418255  0.7759        1.2831  ...  1.8028      5.0401   \n",
            "4      0.9908       350797  0.7569        1.3108  ...  0.8865      2.7016   \n",
            "..        ...          ...     ...           ...  ...     ...         ...   \n",
            "893    0.9785       261028  0.7269        1.4499  ... -0.1398      2.2423   \n",
            "894    0.9466       386566  0.6695        1.5510  ...  0.5611      3.4109   \n",
            "895    0.9925       256255  0.7240        1.7159  ...  0.2665      2.2759   \n",
            "896    0.9604       248795  0.6954        1.6220  ...  0.5325      2.6769   \n",
            "897    0.9781       351472  0.6941        1.5405  ...  0.4318      2.5138   \n",
            "\n",
            "     KurtosisRG  KurtosisRB     EntropyRR    EntropyRG    EntropyRB  \\\n",
            "0        2.9574      4.2287 -5.919126e+10 -50714214400 -39922372608   \n",
            "1        2.6350      3.1704 -3.423307e+10 -37462601728 -31477794816   \n",
            "2        3.8611      4.7192 -9.394835e+10 -74738221056 -60311207936   \n",
            "3        8.6136      8.2618 -3.207431e+10 -32060925952 -29575010304   \n",
            "4        2.9761      4.4146 -3.998097e+10 -35980042240 -25593278464   \n",
            "..          ...         ...           ...          ...          ...   \n",
            "893      2.3704      2.7202 -2.529642e+10 -19168882688 -18473392128   \n",
            "894      3.5805      3.9910 -3.160522e+10 -21945366528 -19277905920   \n",
            "895      2.5090      2.6951 -2.224277e+10 -19594921984 -17592152064   \n",
            "896      2.6874      2.7991 -2.604860e+10 -21299822592 -19809978368   \n",
            "897      3.0369      3.0865 -3.198348e+10 -20482514944 -21219354624   \n",
            "\n",
            "     ALLdaub4RR  ALLdaub4RG  ALLdaub4RB  \n",
            "0       58.7255     54.9554     47.8400  \n",
            "1       50.0259     52.8168     47.8315  \n",
            "2       65.4772     59.2860     51.9378  \n",
            "3       43.3900     44.1259     41.1882  \n",
            "4       52.7743     50.9080     42.6666  \n",
            "..          ...         ...         ...  \n",
            "893     49.0869     43.0422     42.4153  \n",
            "894     46.8086     39.1046     36.5502  \n",
            "895     44.1325     40.7986     40.9769  \n",
            "896     51.2267     45.7162     45.6260  \n",
            "897     47.3454     38.6966     39.6738  \n",
            "\n",
            "[898 rows x 34 columns]>\n"
          ]
        },
        {
          "output_type": "execute_result",
          "data": {
            "text/plain": [
              "array([['BERHI'],\n",
              "       ['BERHI'],\n",
              "       ['BERHI'],\n",
              "       ['BERHI'],\n",
              "       ['BERHI']], dtype=object)"
            ]
          },
          "metadata": {},
          "execution_count": 17
        }
      ]
    },
    {
      "cell_type": "markdown",
      "source": [
        "Everything looks good! We can move to the next phase of development."
      ],
      "metadata": {
        "id": "w7OYN7aQbOkm"
      }
    },
    {
      "cell_type": "code",
      "source": [],
      "metadata": {
        "id": "kDCQC5qiX101"
      },
      "execution_count": null,
      "outputs": []
    }
  ]
}