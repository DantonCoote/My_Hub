{
 "cells": [
  {
   "cell_type": "markdown",
   "id": "70bb1077-cc77-4deb-8a06-6bea734ba65c",
   "metadata": {},
   "source": [
    "## Step 1.1, Loading our Data"
   ]
  },
  {
   "cell_type": "code",
   "execution_count": 1,
   "id": "fee94282-f529-435a-8b6d-2662753cf9b3",
   "metadata": {},
   "outputs": [
    {
     "data": {
      "text/html": [
       "<div>\n",
       "<style scoped>\n",
       "    .dataframe tbody tr th:only-of-type {\n",
       "        vertical-align: middle;\n",
       "    }\n",
       "\n",
       "    .dataframe tbody tr th {\n",
       "        vertical-align: top;\n",
       "    }\n",
       "\n",
       "    .dataframe thead th {\n",
       "        text-align: right;\n",
       "    }\n",
       "</style>\n",
       "<table border=\"1\" class=\"dataframe\">\n",
       "  <thead>\n",
       "    <tr style=\"text-align: right;\">\n",
       "      <th></th>\n",
       "      <th>Unnamed: 0</th>\n",
       "      <th>age</th>\n",
       "      <th>gender</th>\n",
       "      <th>chest pain type</th>\n",
       "      <th>blood pressure</th>\n",
       "      <th>cholesterol</th>\n",
       "      <th>max heart rate</th>\n",
       "      <th>exercise angina</th>\n",
       "      <th>plasma glucose</th>\n",
       "      <th>skin_thickness</th>\n",
       "      <th>insulin</th>\n",
       "      <th>bmi</th>\n",
       "      <th>diabetes_pedigree</th>\n",
       "      <th>hypertension</th>\n",
       "      <th>heart_disease</th>\n",
       "    </tr>\n",
       "  </thead>\n",
       "  <tbody>\n",
       "    <tr>\n",
       "      <th>count</th>\n",
       "      <td>6962.000000</td>\n",
       "      <td>6962.000000</td>\n",
       "      <td>6961.000000</td>\n",
       "      <td>6962.000000</td>\n",
       "      <td>6962.000000</td>\n",
       "      <td>6962.000000</td>\n",
       "      <td>6962.000000</td>\n",
       "      <td>6962.000000</td>\n",
       "      <td>6962.000000</td>\n",
       "      <td>6962.000000</td>\n",
       "      <td>6962.000000</td>\n",
       "      <td>6962.000000</td>\n",
       "      <td>6962.000000</td>\n",
       "      <td>6962.000000</td>\n",
       "      <td>6962.000000</td>\n",
       "    </tr>\n",
       "    <tr>\n",
       "      <th>mean</th>\n",
       "      <td>2011.954180</td>\n",
       "      <td>57.450014</td>\n",
       "      <td>0.531964</td>\n",
       "      <td>0.529015</td>\n",
       "      <td>109.629991</td>\n",
       "      <td>184.711290</td>\n",
       "      <td>163.502442</td>\n",
       "      <td>0.061764</td>\n",
       "      <td>98.394283</td>\n",
       "      <td>56.813416</td>\n",
       "      <td>111.091640</td>\n",
       "      <td>27.190908</td>\n",
       "      <td>0.467386</td>\n",
       "      <td>0.071531</td>\n",
       "      <td>0.039500</td>\n",
       "    </tr>\n",
       "    <tr>\n",
       "      <th>std</th>\n",
       "      <td>1560.966466</td>\n",
       "      <td>11.904948</td>\n",
       "      <td>0.499013</td>\n",
       "      <td>1.253791</td>\n",
       "      <td>21.534852</td>\n",
       "      <td>32.010359</td>\n",
       "      <td>15.458693</td>\n",
       "      <td>0.240743</td>\n",
       "      <td>28.598084</td>\n",
       "      <td>22.889316</td>\n",
       "      <td>17.470033</td>\n",
       "      <td>7.362886</td>\n",
       "      <td>0.102663</td>\n",
       "      <td>0.257729</td>\n",
       "      <td>0.194796</td>\n",
       "    </tr>\n",
       "    <tr>\n",
       "      <th>min</th>\n",
       "      <td>0.000000</td>\n",
       "      <td>28.000000</td>\n",
       "      <td>0.000000</td>\n",
       "      <td>0.000000</td>\n",
       "      <td>60.000000</td>\n",
       "      <td>150.000000</td>\n",
       "      <td>138.000000</td>\n",
       "      <td>0.000000</td>\n",
       "      <td>55.120000</td>\n",
       "      <td>21.000000</td>\n",
       "      <td>81.000000</td>\n",
       "      <td>10.300000</td>\n",
       "      <td>0.078000</td>\n",
       "      <td>0.000000</td>\n",
       "      <td>0.000000</td>\n",
       "    </tr>\n",
       "    <tr>\n",
       "      <th>25%</th>\n",
       "      <td>604.000000</td>\n",
       "      <td>48.000000</td>\n",
       "      <td>0.000000</td>\n",
       "      <td>0.000000</td>\n",
       "      <td>92.000000</td>\n",
       "      <td>164.000000</td>\n",
       "      <td>150.000000</td>\n",
       "      <td>0.000000</td>\n",
       "      <td>78.707500</td>\n",
       "      <td>36.000000</td>\n",
       "      <td>97.000000</td>\n",
       "      <td>21.800000</td>\n",
       "      <td>0.467386</td>\n",
       "      <td>0.000000</td>\n",
       "      <td>0.000000</td>\n",
       "    </tr>\n",
       "    <tr>\n",
       "      <th>50%</th>\n",
       "      <td>1628.500000</td>\n",
       "      <td>56.000000</td>\n",
       "      <td>1.000000</td>\n",
       "      <td>0.000000</td>\n",
       "      <td>111.000000</td>\n",
       "      <td>179.000000</td>\n",
       "      <td>163.000000</td>\n",
       "      <td>0.000000</td>\n",
       "      <td>93.000000</td>\n",
       "      <td>55.000000</td>\n",
       "      <td>111.000000</td>\n",
       "      <td>26.200000</td>\n",
       "      <td>0.467386</td>\n",
       "      <td>0.000000</td>\n",
       "      <td>0.000000</td>\n",
       "    </tr>\n",
       "    <tr>\n",
       "      <th>75%</th>\n",
       "      <td>3368.750000</td>\n",
       "      <td>66.000000</td>\n",
       "      <td>1.000000</td>\n",
       "      <td>0.000000</td>\n",
       "      <td>127.000000</td>\n",
       "      <td>192.000000</td>\n",
       "      <td>177.000000</td>\n",
       "      <td>0.000000</td>\n",
       "      <td>111.632500</td>\n",
       "      <td>77.000000</td>\n",
       "      <td>125.000000</td>\n",
       "      <td>31.000000</td>\n",
       "      <td>0.467386</td>\n",
       "      <td>0.000000</td>\n",
       "      <td>0.000000</td>\n",
       "    </tr>\n",
       "    <tr>\n",
       "      <th>max</th>\n",
       "      <td>5109.000000</td>\n",
       "      <td>82.000000</td>\n",
       "      <td>1.000000</td>\n",
       "      <td>4.000000</td>\n",
       "      <td>165.000000</td>\n",
       "      <td>294.000000</td>\n",
       "      <td>202.000000</td>\n",
       "      <td>1.000000</td>\n",
       "      <td>199.000000</td>\n",
       "      <td>99.000000</td>\n",
       "      <td>171.000000</td>\n",
       "      <td>66.800000</td>\n",
       "      <td>2.420000</td>\n",
       "      <td>1.000000</td>\n",
       "      <td>1.000000</td>\n",
       "    </tr>\n",
       "  </tbody>\n",
       "</table>\n",
       "</div>"
      ],
      "text/plain": [
       "        Unnamed: 0          age       gender  chest pain type  blood pressure  \\\n",
       "count  6962.000000  6962.000000  6961.000000      6962.000000     6962.000000   \n",
       "mean   2011.954180    57.450014     0.531964         0.529015      109.629991   \n",
       "std    1560.966466    11.904948     0.499013         1.253791       21.534852   \n",
       "min       0.000000    28.000000     0.000000         0.000000       60.000000   \n",
       "25%     604.000000    48.000000     0.000000         0.000000       92.000000   \n",
       "50%    1628.500000    56.000000     1.000000         0.000000      111.000000   \n",
       "75%    3368.750000    66.000000     1.000000         0.000000      127.000000   \n",
       "max    5109.000000    82.000000     1.000000         4.000000      165.000000   \n",
       "\n",
       "       cholesterol  max heart rate  exercise angina  plasma glucose  \\\n",
       "count  6962.000000     6962.000000      6962.000000     6962.000000   \n",
       "mean    184.711290      163.502442         0.061764       98.394283   \n",
       "std      32.010359       15.458693         0.240743       28.598084   \n",
       "min     150.000000      138.000000         0.000000       55.120000   \n",
       "25%     164.000000      150.000000         0.000000       78.707500   \n",
       "50%     179.000000      163.000000         0.000000       93.000000   \n",
       "75%     192.000000      177.000000         0.000000      111.632500   \n",
       "max     294.000000      202.000000         1.000000      199.000000   \n",
       "\n",
       "       skin_thickness      insulin          bmi  diabetes_pedigree  \\\n",
       "count     6962.000000  6962.000000  6962.000000        6962.000000   \n",
       "mean        56.813416   111.091640    27.190908           0.467386   \n",
       "std         22.889316    17.470033     7.362886           0.102663   \n",
       "min         21.000000    81.000000    10.300000           0.078000   \n",
       "25%         36.000000    97.000000    21.800000           0.467386   \n",
       "50%         55.000000   111.000000    26.200000           0.467386   \n",
       "75%         77.000000   125.000000    31.000000           0.467386   \n",
       "max         99.000000   171.000000    66.800000           2.420000   \n",
       "\n",
       "       hypertension  heart_disease  \n",
       "count   6962.000000    6962.000000  \n",
       "mean       0.071531       0.039500  \n",
       "std        0.257729       0.194796  \n",
       "min        0.000000       0.000000  \n",
       "25%        0.000000       0.000000  \n",
       "50%        0.000000       0.000000  \n",
       "75%        0.000000       0.000000  \n",
       "max        1.000000       1.000000  "
      ]
     },
     "execution_count": 1,
     "metadata": {},
     "output_type": "execute_result"
    }
   ],
   "source": [
    "import pandas as pd\n",
    "\n",
    "# after importing the pandas library, a library that is good for large scale algebra and data manipulation\n",
    "# we gather our data into the data variable in the form a pandas dataframe\n",
    "data = pd.read_csv('patient_priority.csv')# our data has an index column\n",
    "data.describe() # shows some basic statistics about our data"
   ]
  },
  {
   "cell_type": "markdown",
   "id": "8cbd49e0-2a73-41a7-9b04-41b9d63c6eae",
   "metadata": {},
   "source": [
    "Well, a quick look at our data shows it is definitely some preliminary medical information.\n",
    "<br>I am not familiar with every term so I'll need to set up some definitions for later. \n",
    "<br><br>\n",
    "We have an unnamed column. That is a previous index. We can fix this when loading data but I am going to just drop the column this time"
   ]
  },
  {
   "cell_type": "markdown",
   "id": "bdeb9745-9300-4b41-a3c4-114144ccd78b",
   "metadata": {},
   "source": [
    "## Step 1.2, Cleaning our data"
   ]
  },
  {
   "cell_type": "code",
   "execution_count": 2,
   "id": "6ae51d3c-5713-4415-82ea-b4344682f7e3",
   "metadata": {},
   "outputs": [],
   "source": [
    "data = data.drop('Unnamed: 0', axis=1)# setting the drop function to entire column"
   ]
  },
  {
   "cell_type": "code",
   "execution_count": 3,
   "id": "65b7937f-5fa5-468b-b004-3ab61a77052e",
   "metadata": {},
   "outputs": [],
   "source": [
    "# first lets remove our labels from the data\n",
    "triage = data['triage']\n",
    "data = data.drop('triage', axis=1)"
   ]
  },
  {
   "cell_type": "code",
   "execution_count": 4,
   "id": "157cbf08-6caa-4154-b2c5-ab7e90687b2e",
   "metadata": {},
   "outputs": [
    {
     "name": "stdout",
     "output_type": "stream",
     "text": [
      "<class 'pandas.core.frame.DataFrame'>\n",
      "RangeIndex: 6962 entries, 0 to 6961\n",
      "Data columns (total 16 columns):\n",
      "age                  6962 non-null float64\n",
      "gender               6961 non-null float64\n",
      "chest pain type      6962 non-null float64\n",
      "blood pressure       6962 non-null float64\n",
      "cholesterol          6962 non-null float64\n",
      "max heart rate       6962 non-null float64\n",
      "exercise angina      6962 non-null float64\n",
      "plasma glucose       6962 non-null float64\n",
      "skin_thickness       6962 non-null float64\n",
      "insulin              6962 non-null float64\n",
      "bmi                  6962 non-null float64\n",
      "diabetes_pedigree    6962 non-null float64\n",
      "hypertension         6962 non-null float64\n",
      "heart_disease        6962 non-null float64\n",
      "Residence_type       6962 non-null object\n",
      "smoking_status       6962 non-null object\n",
      "dtypes: float64(14), object(2)\n",
      "memory usage: 870.3+ KB\n"
     ]
    }
   ],
   "source": [
    "# we should not have any null values but let's check what kind of variables our dataset\n",
    "# will contain\n",
    "data.info()"
   ]
  },
  {
   "cell_type": "markdown",
   "id": "62066d5a-dc26-4f17-b031-b1e29431b4ad",
   "metadata": {},
   "source": [
    "We have a few different objects in our dataset along with our numerical data. Triage will be our target for this model. Triage represents the level of immediate care a patient requires upon assessment. \n",
    "<br>We'll want to check for some null values and if there are duplicates now"
   ]
  },
  {
   "cell_type": "code",
   "execution_count": 26,
   "id": "503ae1d7-6f3f-4490-bfdc-a3d0a26fcadb",
   "metadata": {},
   "outputs": [
    {
     "name": "stdout",
     "output_type": "stream",
     "text": [
      "There are Null values\n"
     ]
    }
   ],
   "source": [
    "# built in function that returns a list of booleans for each row, showing true if a null if contained\n",
    "if data.isnull().any: #.any just returns true if any value is True\n",
    "    print('There are Null values')\n",
    "\n",
    "# another built-in function that returns a list of booleans that shows true if there are repeating rows\n",
    "dups = data.duplicated()\n",
    "if dups.any():\n",
    "    print('There are duplicates')"
   ]
  },
  {
   "cell_type": "markdown",
   "id": "18b4f06d-2ee8-4015-a191-4f95097cc398",
   "metadata": {},
   "source": [
    "We assumed there would be no duplicates initially but always safe to check\n",
    "<br>Well, I guess a hunting for these null values we shall go!"
   ]
  },
  {
   "cell_type": "code",
   "execution_count": 6,
   "id": "4e8e7d81-90db-4efd-8995-7875c8ac8bd4",
   "metadata": {},
   "outputs": [
    {
     "name": "stdout",
     "output_type": "stream",
     "text": [
      "       age  gender  chest pain type  blood pressure  cholesterol  \\\n",
      "4968  72.0     NaN              0.0            85.0        160.0   \n",
      "\n",
      "      max heart rate  exercise angina  plasma glucose  skin_thickness  \\\n",
      "4968           178.0              0.0          143.33            87.0   \n",
      "\n",
      "      insulin   bmi  diabetes_pedigree  hypertension  heart_disease  \\\n",
      "4968    116.0  22.4           0.467386           0.0            0.0   \n",
      "\n",
      "     Residence_type   smoking_status  \n",
      "4968          Rural  formerly smoked  \n"
     ]
    }
   ],
   "source": [
    "# Lets find what rows have nulls\n",
    "print(data.loc[data.isnull().any(axis=1)])\n",
    "#this is a cool trick to find all rows with a null and print them out\n",
    "# we iterate through the dataframe, finding the Null values via booleans\n",
    "# then having any(axis=1) prints out the entire row"
   ]
  },
  {
   "cell_type": "markdown",
   "id": "72ecb571-9c73-43c6-9cdc-b7b7d639f5b4",
   "metadata": {},
   "source": [
    "Huh. A single row is missing a gender value. Is it controversial to drop this? \n",
    "<br>Gender is just specified via 0 or 1. This can be a true or false value in our data or\n",
    "is just a 1 or 0. \n",
    "<br>There seems to be a true or false represented as integers for Heart Disease so\n",
    "we have these values to represent binary values. "
   ]
  },
  {
   "cell_type": "code",
   "execution_count": null,
   "id": "50425950-4bd2-46aa-a989-02b05beab060",
   "metadata": {},
   "outputs": [],
   "source": []
  }
 ],
 "metadata": {
  "kernelspec": {
   "display_name": "Python 3",
   "language": "python",
   "name": "python3"
  },
  "language_info": {
   "codemirror_mode": {
    "name": "ipython",
    "version": 3
   },
   "file_extension": ".py",
   "mimetype": "text/x-python",
   "name": "python",
   "nbconvert_exporter": "python",
   "pygments_lexer": "ipython3",
   "version": "3.7.16"
  }
 },
 "nbformat": 4,
 "nbformat_minor": 5
}
